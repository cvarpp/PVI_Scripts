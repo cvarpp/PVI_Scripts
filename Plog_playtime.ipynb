{
 "cells": [
  {
   "cell_type": "code",
   "execution_count": 2,
   "metadata": {},
   "outputs": [],
   "source": [
    "import pandas as pd\n",
    "import argparse\n",
    "import util\n",
    "from helpers import query_dscf, query_intake, clean_sample_id\n",
    "import regex as re"
   ]
  },
  {
   "cell_type": "code",
   "execution_count": null,
   "metadata": {},
   "outputs": [],
   "source": [
    "plog = pd.read_excel(util.print_log, sheet_name='LOG', header=0)\n"
   ]
  },
  {
   "cell_type": "code",
   "execution_count": null,
   "metadata": {},
   "outputs": [],
   "source": [
    "plog.head()"
   ]
  },
  {
   "cell_type": "code",
   "execution_count": null,
   "metadata": {},
   "outputs": [],
   "source": [
    "plog.columns"
   ]
  },
  {
   "cell_type": "code",
   "execution_count": null,
   "metadata": {},
   "outputs": [],
   "source": [
    "pset = pd.DataFrame()\n",
    "pset['temp'] = plog['CPT/EDTA brand, batch #'].dropna(axis=0).apply(lambda x: re.sub(r\"[# ]\",\"\",str(x))).apply(lambda x: re.sub(\"Vacutainer\",\"\",str(x)))\n",
    "\n",
    "pset['temp'] = pset['temp'].dropna(axis=0).apply(lambda x: re.sub(\"lastbag-openednewone-\",\"\",str(x))).apply(lambda x: re.sub(\"openednewCPTstartingforC3206,\",\"\",str(x)))\n",
    "\n",
    "pset['temp'] = pset['temp'].dropna(axis=0).apply(lambda x: re.sub(\"D,3\",\"D3\",str(x))).apply(lambda x: re.sub(\",\",\";\",str(x)))\n",
    "\n",
    "pset['temp'] = pset['temp'].dropna(axis=0).apply(lambda x: re.split(\";\",x))\n"
   ]
  },
  {
   "cell_type": "code",
   "execution_count": null,
   "metadata": {},
   "outputs": [],
   "source": [
    "catalog = []\n",
    "lot = []\n",
    "lot_dup = {}\n",
    "for n, list in enumerate(pset['temp']):\n",
    "    # if len(list) >1:\n",
    "    for item in list:\n",
    "        if \"bd\" in item or \"BD\" in item:\n",
    "            catalog.append(item)\n",
    "        elif len(lot) == n:\n",
    "            lot_dup.update({n:item})\n",
    "            continue\n",
    "        elif \"Lot\" in item or len(item) == 7 and \"/\" not in item:\n",
    "            lot.append(item)\n",
    "    if len(catalog) != n+1:\n",
    "        catalog.append(\"No Catalog Found\")\n",
    "\n",
    "    if len(lot) != n-1:\n",
    "        print(len(lot), n)\n",
    "        lot.append(\"No Lot Found\")\n",
    "\n",
    "pset['catalog'] = catalog\n",
    "pset['lot'] = lot"
   ]
  },
  {
   "cell_type": "code",
   "execution_count": null,
   "metadata": {},
   "outputs": [],
   "source": [
    "pset"
   ]
  },
  {
   "cell_type": "code",
   "execution_count": null,
   "metadata": {},
   "outputs": [],
   "source": []
  }
 ],
 "metadata": {
  "kernelspec": {
   "display_name": "base",
   "language": "python",
   "name": "python3"
  },
  "language_info": {
   "codemirror_mode": {
    "name": "ipython",
    "version": 3
   },
   "file_extension": ".py",
   "mimetype": "text/x-python",
   "name": "python",
   "nbconvert_exporter": "python",
   "pygments_lexer": "ipython3",
   "version": "3.9.18"
  }
 },
 "nbformat": 4,
 "nbformat_minor": 2
}
